{
 "cells": [
  {
   "cell_type": "code",
   "execution_count": 30,
   "id": "e1d7b678",
   "metadata": {},
   "outputs": [
    {
     "name": "stdout",
     "output_type": "stream",
     "text": [
      "(xxx)-xxx-xxxx | your@email.com | 123 Your Address, City, State Zip Code\n",
      "\n",
      "CAREER OBJECTIVE\n",
      "\n",
      "Diligent Data Analyst with over 5 years of experience. Seeking an opportunity to leverage my diverse skills and experience in data mining and analysis into the open data analyst position at your company. A B.S. in Statistics from a top 50 university coupled with my ample experience in analytics will make me a positive asset to your organization.\n",
      "\n",
      "PROFESSIONAL EXPERIENCE\n",
      "\n",
      "CROSSPATH INC, Chicago, IL | March 2014 â€“ Present\n",
      "\n",
      "Data Analyst II\n",
      "\n",
      "Conduct data mining and data modeling in coordination with the finance department\n",
      "Develop complex reports using SQL to examine compensation totaling $4.9 million for over 100 employees\n",
      "Identify unnecessary shipping costs, saving the company $865,000 annually\n",
      "Collaborate with international partners to create scheduled and ad hoc reports with which business and financial models are made\n",
      "Assist in the creation of a novel method of new account information input, saving approximately 300 man-hours annually\n",
      "Analyze inventory usage and transactions\n",
      "LANGFORD HOSPITAL, Madison, WI | January 2012 â€“ February 2014\n",
      "\n",
      "Data Analyst I\n",
      "\n",
      "Analyze and track patient data for a 500-bed facility\n",
      "Track and monitor patient payment processes weekly\n",
      "Coordinate with medical staff to clean patient data in accordance with HIPAA regulations\n",
      "Contribute to the implementation of a medical records filing system which helped decrease outpatient wait time by 13.2%\n",
      "Conduct data mining and analysis on annual net patient revenue totaling $1.1 billion\n",
      "Assist in the training of 3 junior data analysts\n",
      "EDUCATION\n",
      "\n",
      "Bachelor of Science in Statistics, UNIVERSITY OF WISCONSIN, Madison, WI\n",
      "\n",
      "December 2011\n",
      "\n",
      "Graduated with Honors | GPA 3.7/4.0\n",
      "\n",
      "Google Analytics IQ Certification\n",
      "\n",
      "ADDITIONAL SKILLS\n",
      "\n",
      "Expertise in SAS, Microsoft Acess, SQL, Cognos Reportnet, and Tableau\n",
      "Mastery of Microsoft Excel (including PivotTables and VLOOKUP)\n",
      "Proficient with Google Analytics and AdWords Java JavaScript HTML CSS\n"
     ]
    }
   ],
   "source": [
    "with open(\"example.txt\", \"r\") as file:\n",
    " data = str(file.read())\n",
    "\n",
    "print(data)"
   ]
  },
  {
   "cell_type": "code",
   "execution_count": 31,
   "id": "acc10194",
   "metadata": {},
   "outputs": [
    {
     "name": "stdout",
     "output_type": "stream",
     "text": [
      "<class 'str'>\n"
     ]
    }
   ],
   "source": [
    "print(type(data))"
   ]
  },
  {
   "cell_type": "code",
   "execution_count": 34,
   "id": "197bea3f",
   "metadata": {},
   "outputs": [
    {
     "name": "stdout",
     "output_type": "stream",
     "text": [
      "1986\n",
      "3\n"
     ]
    }
   ],
   "source": [
    "count = 0\n",
    "total = 7\n",
    "skills = [\"Java\", \"Node.js\", \"JavaScript\", \"git\", \"React.js\", \"Express.js\", \"HTML\", \"CSS\"]\n",
    "print(data.find(\"JavaScript\"))\n",
    "if(data.find(\"JavaScript\") == -1 or (data.find(\"HTML\") == -1) or (data.find(\"CSS\")) == -1):\n",
    "    print(\"Not eligible\")\n",
    "else:\n",
    "    for i in range(7):\n",
    "        if(data.find(skills[i]) != -1):\n",
    "            count+=1;\n",
    "            \n",
    "print(count)"
   ]
  },
  {
   "cell_type": "code",
   "execution_count": 36,
   "id": "569e9f14",
   "metadata": {},
   "outputs": [
    {
     "name": "stdout",
     "output_type": "stream",
     "text": [
      "0.42857142857142855\n",
      "Not eligible\n"
     ]
    }
   ],
   "source": [
    "print(count/total)\n",
    "if((count/total) >= 0.5):\n",
    "    \n",
    "    print(\"eligible\")\n",
    "else:\n",
    "    print(\"Not eligible\")"
   ]
  },
  {
   "cell_type": "code",
   "execution_count": null,
   "id": "1adaabab",
   "metadata": {},
   "outputs": [],
   "source": []
  }
 ],
 "metadata": {
  "kernelspec": {
   "display_name": "Python 3 (ipykernel)",
   "language": "python",
   "name": "python3"
  },
  "language_info": {
   "codemirror_mode": {
    "name": "ipython",
    "version": 3
   },
   "file_extension": ".py",
   "mimetype": "text/x-python",
   "name": "python",
   "nbconvert_exporter": "python",
   "pygments_lexer": "ipython3",
   "version": "3.9.12"
  }
 },
 "nbformat": 4,
 "nbformat_minor": 5
}
